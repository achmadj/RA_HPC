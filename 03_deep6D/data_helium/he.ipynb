{
 "cells": [
  {
   "cell_type": "code",
   "execution_count": 1,
   "metadata": {},
   "outputs": [],
   "source": [
    "import cupyx.scipy.sparse as sp\n",
    "import cupyx.scipy.sparse.linalg as linalg\n",
    "import cupy as np\n",
    "import numpy\n",
    "from tqdm.auto import tqdm"
   ]
  },
  {
   "cell_type": "code",
   "execution_count": 2,
   "metadata": {},
   "outputs": [
    {
     "data": {
      "application/vnd.jupyter.widget-view+json": {
       "model_id": "c79a2d3a462c43498db4f69b7721b28d",
       "version_major": 2,
       "version_minor": 0
      },
      "text/plain": [
       "  0%|          | 0/1000 [00:00<?, ?it/s]"
      ]
     },
     "metadata": {},
     "output_type": "display_data"
    },
    {
     "ename": "NameError",
     "evalue": "name 'h5py' is not defined",
     "output_type": "error",
     "traceback": [
      "\u001b[0;31m---------------------------------------------------------------------------\u001b[0m",
      "\u001b[0;31mNameError\u001b[0m                                 Traceback (most recent call last)",
      "\u001b[1;32m/clusterfs/students/achmadjae/RA/data_helium/he.ipynb Cell 2\u001b[0m line \u001b[0;36m5\n\u001b[1;32m     <a href='vscode-notebook-cell://ssh-remote%2B10.10.48.28/clusterfs/students/achmadjae/RA/data_helium/he.ipynb#W0sdnNjb2RlLXJlbW90ZQ%3D%3D?line=50'>51</a>\u001b[0m   labels[i] \u001b[39m=\u001b[39m energy\n\u001b[1;32m     <a href='vscode-notebook-cell://ssh-remote%2B10.10.48.28/clusterfs/students/achmadjae/RA/data_helium/he.ipynb#W0sdnNjb2RlLXJlbW90ZQ%3D%3D?line=51'>52</a>\u001b[0m   kinetics[i] \u001b[39m=\u001b[39m psi\u001b[39m.\u001b[39mT \u001b[39m@\u001b[39m T \u001b[39m@\u001b[39m psi\n\u001b[0;32m---> <a href='vscode-notebook-cell://ssh-remote%2B10.10.48.28/clusterfs/students/achmadjae/RA/data_helium/he.ipynb#W0sdnNjb2RlLXJlbW90ZQ%3D%3D?line=53'>54</a>\u001b[0m \u001b[39mwith\u001b[39;00m h5py\u001b[39m.\u001b[39mFile(filename, \u001b[39m'\u001b[39m\u001b[39mw\u001b[39m\u001b[39m'\u001b[39m) \u001b[39mas\u001b[39;00m f:\n\u001b[1;32m     <a href='vscode-notebook-cell://ssh-remote%2B10.10.48.28/clusterfs/students/achmadjae/RA/data_helium/he.ipynb#W0sdnNjb2RlLXJlbW90ZQ%3D%3D?line=54'>55</a>\u001b[0m   f\u001b[39m.\u001b[39mcreate_dataset(\u001b[39m'\u001b[39m\u001b[39mpotentials\u001b[39m\u001b[39m'\u001b[39m, data\u001b[39m=\u001b[39mpotentials)\n\u001b[1;32m     <a href='vscode-notebook-cell://ssh-remote%2B10.10.48.28/clusterfs/students/achmadjae/RA/data_helium/he.ipynb#W0sdnNjb2RlLXJlbW90ZQ%3D%3D?line=55'>56</a>\u001b[0m   f\u001b[39m.\u001b[39mcreate_dataset(\u001b[39m'\u001b[39m\u001b[39mlabels\u001b[39m\u001b[39m'\u001b[39m, data\u001b[39m=\u001b[39mlabels)\n",
      "\u001b[0;31mNameError\u001b[0m: name 'h5py' is not defined"
     ]
    }
   ],
   "source": [
    "#paramx\n",
    "L = 6\n",
    "h = 1.8\n",
    "limit = (L-1)*h/2\n",
    "charge = 1\n",
    "filename = \"hydrogenAnion.h5\"\n",
    "N = 1000\n",
    "potentials = np.zeros([N, L, L, L, L, L, L, 1])\n",
    "labels = np.zeros([N, 1])\n",
    "kinetics = np.zeros([N, 1])\n",
    "\n",
    "for i in tqdm(range(N)):\n",
    "  # mesh\n",
    "  x = np.linspace(-limit, limit, L)\n",
    "  dx = x[1]-x[0] #grid spacing\n",
    "  (X1, X2, Y1, Y2, Z1, Z2) = np.meshgrid(x, x, x, x, x, x, indexing=\"ij\")\n",
    "  energy = -100\n",
    "\n",
    "  # coordinate\n",
    "  while energy < -0.502 or energy > -0.44338666:\n",
    "    cx, cy, cz = np.random.uniform(-h/2, h/2, 3)\n",
    "    while np.sqrt(cx**2 + cy**2 + cz**2) > h/2:\n",
    "      cx, cy, cz = np.random.uniform(-h/2, h/2, 3)\n",
    "\n",
    "    R1 = np.sqrt((X1-cx)**2 + (Y1-cy)**2 + (Z1-cz)**2)\n",
    "    R2 = np.sqrt((X2-cx)**2 + (Y2-cy)**2 + (Z2-cz)**2)\n",
    "    r12 = np.sqrt((X1-X2)**2 + (Y1-Y2)**2 + (Z1-Z2)**2)\n",
    "\n",
    "    # kinetic\n",
    "    diag = np.ones([L])\n",
    "    diags = np.array([diag, -2*diag, diag])\n",
    "    D = sp.spdiags(diags, np.array([-1, 0, 1]), L, L)/dx/dx\n",
    "    D1 = sp.kronsum(sp.kronsum(sp.kronsum(sp.kronsum(sp.kronsum(D,D), D), D), D), D)\n",
    "    T = -0.5 * D1\n",
    "\n",
    "    with numpy.errstate(divide='ignore'):\n",
    "      # attraction\n",
    "      attraction_1 = np.where(R1==0, 0, -charge/R1)    #-2/np.sqrt((X1)**2 + (Y1)**2 + (Z1)**2)\n",
    "      attraction_2 = np.where(R2==0, 0, -charge/R2)    #-2/np.sqrt((X2)**2 + (Y2)**2 + (Z2)**2)\n",
    "\n",
    "      # repulsion\n",
    "      repulsion = np.where(r12==0, 0, 1/r12)    #1/np.sqrt((X1-X2)**2 + (Y1-Y2)**2 + (Z1-Z2)**2)\n",
    "\n",
    "    # potential\n",
    "    V = sp.diags((attraction_1 + attraction_2 + repulsion).reshape(L**6),(0), )\n",
    "    # solve\n",
    "    H = T + V\n",
    "    energy, psi = linalg.eigsh(H, k=1, which='SA', return_eigenvectors=True)\n",
    "  potential = (attraction_1 + attraction_2 + repulsion)\n",
    "  potentials[i] = potential.reshape([L, L, L, L, L, L, 1])\n",
    "  labels[i] = energy\n",
    "  kinetics[i] = psi.T @ T @ psi\n",
    "\n"
   ]
  },
  {
   "cell_type": "code",
   "execution_count": 4,
   "metadata": {},
   "outputs": [],
   "source": [
    "import h5py\n",
    "\n",
    "with h5py.File(filename, 'w') as f:\n",
    "  f.create_dataset('potentials', data=potentials.get())\n",
    "  f.create_dataset('labels', data=labels.get())\n",
    "  f.create_dataset('kinetics', data=kinetics.get())"
   ]
  },
  {
   "cell_type": "code",
   "execution_count": null,
   "metadata": {},
   "outputs": [],
   "source": []
  }
 ],
 "metadata": {
  "kernelspec": {
   "display_name": "Python 3",
   "language": "python",
   "name": "python3"
  },
  "language_info": {
   "codemirror_mode": {
    "name": "ipython",
    "version": 3
   },
   "file_extension": ".py",
   "mimetype": "text/x-python",
   "name": "python",
   "nbconvert_exporter": "python",
   "pygments_lexer": "ipython3",
   "version": "3.11.2"
  }
 },
 "nbformat": 4,
 "nbformat_minor": 2
}
