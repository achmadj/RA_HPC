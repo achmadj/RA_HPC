{
 "cells": [
  {
   "cell_type": "code",
   "execution_count": 1,
   "metadata": {},
   "outputs": [],
   "source": [
    "from pyscf import gto, scf\n",
    "from pyscf.lib import logger\n",
    "import numpy as np\n",
    "import pandas as pd\n",
    "import matplotlib.pyplot as plt"
   ]
  },
  {
   "cell_type": "code",
   "execution_count": 2,
   "metadata": {},
   "outputs": [],
   "source": [
    "molecules = [\n",
    "    ('H 0 0 0; H 0 0 1.4', 'sto-6g', 0),\n",
    "    ('H 0 0 0; H 0 0 1.4', '6-31g', 0),\n",
    "    ('H 0 0 0; H 0 0 1.4', 'cc-pvdz', 0),\n",
    "    ('H 0 0 0; H 0 0 1.4', 'cc-pvqz', 0),\n",
    "    ('H 0 0 0; Li 0 0 3', 'sto-6g', 0),\n",
    "    ('H 0 0 0; Li 0 0 3', '6-31g', 0),\n",
    "    ('H 0 0 0; Li 0 0 3', 'cc-pvdz', 0),\n",
    "    ('H 0 0 0; Li 0 0 3', 'cc-pvqz', 0),\n",
    "    ('He 0 0 0; H 0 0 1.4623', 'sto-6g', 1),\n",
    "    ('He 0 0 0; H 0 0 1.4623', '6-31g', 1),\n",
    "    ('He 0 0 0; H 0 0 1.4623', 'cc-pvdz', 1),\n",
    "    ('He 0 0 0; H 0 0 1.4623', 'cc-pvqz', 1),\n",
    "    ('O 0 0 0.227; H 0 1.353 -0.908; H 0 -1.353 -0.908', 'sto-6g', 0),\n",
    "    ('O 0 0 0.227; H 0 1.353 -0.908; H 0 -1.353 -0.908', '6-31g', 0),\n",
    "    ('O 0 0 0.227; H 0 1.353 -0.908; H 0 -1.353 -0.908', 'cc-pvdz', 0),\n",
    "    ('O 0 0 0.227; H 0 1.353 -0.908; H 0 -1.353 -0.908', 'cc-pvqz', 0),\n",
    "]\n",
    "\n",
    "time_elapsed_list = []\n",
    "energy_total_list = []\n",
    "\n",
    "for i, (atom, basis, charge) in enumerate(molecules):\n",
    "    mol = gto.M(atom=atom, basis=basis, charge=charge)\n",
    "    mol.unit = 'bohr'\n",
    "    mol.build()\n",
    "    mf = scf.RHF(mol)\n",
    "    mf.verbose = 0\n",
    "    log = logger.new_logger(mf, mf.verbose)\n",
    "    start_time = logger.perf_counter()\n",
    "    mf.kernel()\n",
    "    time_elapsed = logger.perf_counter() - start_time\n",
    "    energy_total = mf.e_tot\n",
    "\n",
    "    time_elapsed_list.append(time_elapsed)\n",
    "    energy_total_list.append(energy_total)"
   ]
  },
  {
   "cell_type": "code",
   "execution_count": 3,
   "metadata": {},
   "outputs": [],
   "source": [
    "e_tot = np.array(energy_total_list).reshape(4, 4).T\n",
    "time_elapsed = np.array(time_elapsed_list).reshape(4, 4).T"
   ]
  },
  {
   "cell_type": "code",
   "execution_count": 4,
   "metadata": {},
   "outputs": [
    {
     "data": {
      "text/html": [
       "<div>\n",
       "<style scoped>\n",
       "    .dataframe tbody tr th:only-of-type {\n",
       "        vertical-align: middle;\n",
       "    }\n",
       "\n",
       "    .dataframe tbody tr th {\n",
       "        vertical-align: top;\n",
       "    }\n",
       "\n",
       "    .dataframe thead th {\n",
       "        text-align: right;\n",
       "    }\n",
       "</style>\n",
       "<table border=\"1\" class=\"dataframe\">\n",
       "  <thead>\n",
       "    <tr style=\"text-align: right;\">\n",
       "      <th></th>\n",
       "      <th>H2</th>\n",
       "      <th>LiH</th>\n",
       "      <th>HeH+</th>\n",
       "      <th>H2O</th>\n",
       "    </tr>\n",
       "  </thead>\n",
       "  <tbody>\n",
       "    <tr>\n",
       "      <th>sto-6g</th>\n",
       "      <td>-1.125324</td>\n",
       "      <td>-7.952205</td>\n",
       "      <td>-2.873664</td>\n",
       "      <td>-75.674702</td>\n",
       "    </tr>\n",
       "    <tr>\n",
       "      <th>6-31g</th>\n",
       "      <td>-1.126743</td>\n",
       "      <td>-7.979178</td>\n",
       "      <td>-2.909843</td>\n",
       "      <td>-75.980547</td>\n",
       "    </tr>\n",
       "    <tr>\n",
       "      <th>cc-pvdz</th>\n",
       "      <td>-1.128709</td>\n",
       "      <td>-7.983565</td>\n",
       "      <td>-2.923616</td>\n",
       "      <td>-76.026026</td>\n",
       "    </tr>\n",
       "    <tr>\n",
       "      <th>cc-pvqz</th>\n",
       "      <td>-1.133459</td>\n",
       "      <td>-7.987150</td>\n",
       "      <td>-2.932873</td>\n",
       "      <td>-76.064344</td>\n",
       "    </tr>\n",
       "  </tbody>\n",
       "</table>\n",
       "</div>"
      ],
      "text/plain": [
       "               H2       LiH      HeH+        H2O\n",
       "sto-6g  -1.125324 -7.952205 -2.873664 -75.674702\n",
       "6-31g   -1.126743 -7.979178 -2.909843 -75.980547\n",
       "cc-pvdz -1.128709 -7.983565 -2.923616 -76.026026\n",
       "cc-pvqz -1.133459 -7.987150 -2.932873 -76.064344"
      ]
     },
     "execution_count": 4,
     "metadata": {},
     "output_type": "execute_result"
    }
   ],
   "source": [
    "df_energy = pd.DataFrame(e_tot, index=['sto-6g', '6-31g', 'cc-pvdz', 'cc-pvqz'], columns=['H2', 'LiH', 'HeH+', 'H2O'])\n",
    "df_energy"
   ]
  },
  {
   "cell_type": "code",
   "execution_count": 5,
   "metadata": {},
   "outputs": [
    {
     "data": {
      "text/html": [
       "<div>\n",
       "<style scoped>\n",
       "    .dataframe tbody tr th:only-of-type {\n",
       "        vertical-align: middle;\n",
       "    }\n",
       "\n",
       "    .dataframe tbody tr th {\n",
       "        vertical-align: top;\n",
       "    }\n",
       "\n",
       "    .dataframe thead th {\n",
       "        text-align: right;\n",
       "    }\n",
       "</style>\n",
       "<table border=\"1\" class=\"dataframe\">\n",
       "  <thead>\n",
       "    <tr style=\"text-align: right;\">\n",
       "      <th></th>\n",
       "      <th>H2</th>\n",
       "      <th>LiH</th>\n",
       "      <th>HeH+</th>\n",
       "      <th>H2O</th>\n",
       "    </tr>\n",
       "  </thead>\n",
       "  <tbody>\n",
       "    <tr>\n",
       "      <th>sto-6g</th>\n",
       "      <td>0.124521</td>\n",
       "      <td>0.427607</td>\n",
       "      <td>0.128575</td>\n",
       "      <td>0.200460</td>\n",
       "    </tr>\n",
       "    <tr>\n",
       "      <th>6-31g</th>\n",
       "      <td>0.054759</td>\n",
       "      <td>0.330896</td>\n",
       "      <td>0.077187</td>\n",
       "      <td>0.320615</td>\n",
       "    </tr>\n",
       "    <tr>\n",
       "      <th>cc-pvdz</th>\n",
       "      <td>0.150779</td>\n",
       "      <td>0.145591</td>\n",
       "      <td>0.199612</td>\n",
       "      <td>0.478271</td>\n",
       "    </tr>\n",
       "    <tr>\n",
       "      <th>cc-pvqz</th>\n",
       "      <td>0.523843</td>\n",
       "      <td>1.057116</td>\n",
       "      <td>0.498688</td>\n",
       "      <td>2.132184</td>\n",
       "    </tr>\n",
       "  </tbody>\n",
       "</table>\n",
       "</div>"
      ],
      "text/plain": [
       "               H2       LiH      HeH+       H2O\n",
       "sto-6g   0.124521  0.427607  0.128575  0.200460\n",
       "6-31g    0.054759  0.330896  0.077187  0.320615\n",
       "cc-pvdz  0.150779  0.145591  0.199612  0.478271\n",
       "cc-pvqz  0.523843  1.057116  0.498688  2.132184"
      ]
     },
     "execution_count": 5,
     "metadata": {},
     "output_type": "execute_result"
    }
   ],
   "source": [
    "df_time = pd.DataFrame(time_elapsed, index=['sto-6g', '6-31g', 'cc-pvdz', 'cc-pvqz'], columns=['H2', 'LiH', 'HeH+', 'H2O'])\n",
    "df_time"
   ]
  },
  {
   "cell_type": "code",
   "execution_count": 6,
   "metadata": {},
   "outputs": [
    {
     "data": {
      "text/html": [
       "<div>\n",
       "<style scoped>\n",
       "    .dataframe tbody tr th:only-of-type {\n",
       "        vertical-align: middle;\n",
       "    }\n",
       "\n",
       "    .dataframe tbody tr th {\n",
       "        vertical-align: top;\n",
       "    }\n",
       "\n",
       "    .dataframe thead th {\n",
       "        text-align: right;\n",
       "    }\n",
       "</style>\n",
       "<table border=\"1\" class=\"dataframe\">\n",
       "  <thead>\n",
       "    <tr style=\"text-align: right;\">\n",
       "      <th></th>\n",
       "      <th>H2</th>\n",
       "      <th>LiH</th>\n",
       "      <th>HeH+</th>\n",
       "      <th>H2O</th>\n",
       "    </tr>\n",
       "  </thead>\n",
       "  <tbody>\n",
       "    <tr>\n",
       "      <th>sto-6g</th>\n",
       "      <td>0.124521</td>\n",
       "      <td>0.427607</td>\n",
       "      <td>0.128575</td>\n",
       "      <td>0.200460</td>\n",
       "    </tr>\n",
       "    <tr>\n",
       "      <th>6-31g</th>\n",
       "      <td>0.054759</td>\n",
       "      <td>0.330896</td>\n",
       "      <td>0.077187</td>\n",
       "      <td>0.320615</td>\n",
       "    </tr>\n",
       "    <tr>\n",
       "      <th>cc-pvdz</th>\n",
       "      <td>0.150779</td>\n",
       "      <td>0.145591</td>\n",
       "      <td>0.199612</td>\n",
       "      <td>0.478271</td>\n",
       "    </tr>\n",
       "    <tr>\n",
       "      <th>cc-pvqz</th>\n",
       "      <td>0.523843</td>\n",
       "      <td>1.057116</td>\n",
       "      <td>0.498688</td>\n",
       "      <td>2.132184</td>\n",
       "    </tr>\n",
       "  </tbody>\n",
       "</table>\n",
       "</div>"
      ],
      "text/plain": [
       "               H2       LiH      HeH+       H2O\n",
       "sto-6g   0.124521  0.427607  0.128575  0.200460\n",
       "6-31g    0.054759  0.330896  0.077187  0.320615\n",
       "cc-pvdz  0.150779  0.145591  0.199612  0.478271\n",
       "cc-pvqz  0.523843  1.057116  0.498688  2.132184"
      ]
     },
     "execution_count": 6,
     "metadata": {},
     "output_type": "execute_result"
    }
   ],
   "source": [
    "df_time = pd.DataFrame(time_elapsed, index=['sto-6g', '6-31g', 'cc-pvdz', 'cc-pvqz'], columns=['H2', 'LiH', 'HeH+', 'H2O'])\n",
    "df_time"
   ]
  },
  {
   "cell_type": "code",
   "execution_count": 7,
   "metadata": {},
   "outputs": [
    {
     "data": {
      "image/png": "[encoded data removed]",
      "text/plain": [
       "<Figure size 640x480 with 1 Axes>"
      ]
     },
     "metadata": {},
     "output_type": "display_data"
    }
   ],
   "source": [
    "ax = df_energy.plot.bar(rot=0)\n",
    "for p in ax.patches:\n",
    "    ax.annotate(\"%.3f\" % p.get_height(), (p.get_x() + p.get_width() / 2., p.get_height()),\n",
    "                ha='center', va='center', fontsize=6, color='black', xytext=(0, 5),\n",
    "                textcoords='offset points')\n",
    "plt.ylabel('Total Energy (Hartree)')\n",
    "plt.title('Total Energy of Molecules')\n",
    "plt.legend(loc='upper left', bbox_to_anchor=(1.0, 1.0))\n",
    "plt.show()"
   ]
  },
  {
   "cell_type": "code",
   "execution_count": 8,
   "metadata": {},
   "outputs": [
    {
     "data": {
      "image/png": "[encoded data removed]",
      "text/plain": [
       "<Figure size 640x480 with 1 Axes>"
      ]
     },
     "metadata": {},
     "output_type": "display_data"
    }
   ],
   "source": [
    "ax = df_time.plot.bar(rot=0)\n",
    "for p in ax.patches:\n",
    "    ax.annotate(\"%.3f\" % p.get_height(), (p.get_x() + p.get_width() / 2., p.get_height()),\n",
    "                ha='center', va='center', fontsize=6, color='black', xytext=(0, 5),\n",
    "                textcoords='offset points')\n",
    "plt.ylabel('Time Elapsed (s)')\n",
    "plt.title('Time Elapsed of Molecules')\n",
    "plt.legend(loc='upper left', bbox_to_anchor=(1.0, 1.0))\n",
    "plt.show()"
   ]
  },
  {
   "cell_type": "code",
   "execution_count": 36,
   "metadata": {},
   "outputs": [
    {
     "name": "stdout",
     "output_type": "stream",
     "text": [
      "Total Energy of Li (sto-6g): -2.846292 Hartree\n"
     ]
    }
   ],
   "source": [
    "mol2 = gto.M(atom='He 0 0 0', basis='sto-6g', charge=0, spin=0)\n",
    "mol2.unit = 'bohr'\n",
    "mol2.build()\n",
    "mf2 = scf.RHF(mol2)\n",
    "mf2.verbose = 0\n",
    "mf2.kernel()\n",
    "energy_total = mf2.e_tot\n",
    "print(f'Total Energy of Li (sto-6g): {energy_total:.6f} Hartree')"
   ]
  },
  {
   "cell_type": "code",
   "execution_count": null,
   "metadata": {},
   "outputs": [],
   "source": []
  }
 ],
 "metadata": {
  "kernelspec": {
   "display_name": "research",
   "language": "python",
   "name": "python3"
  },
  "language_info": {
   "codemirror_mode": {
    "name": "ipython",
    "version": 3
   },
   "file_extension": ".py",
   "mimetype": "text/x-python",
   "name": "python",
   "nbconvert_exporter": "python",
   "pygments_lexer": "ipython3",
   "version": "3.11.2"
  }
 },
 "nbformat": 4,
 "nbformat_minor": 2
}
