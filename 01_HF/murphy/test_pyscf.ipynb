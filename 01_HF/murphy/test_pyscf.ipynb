{
 "cells": [
  {
   "cell_type": "code",
   "execution_count": 1,
   "metadata": {},
   "outputs": [],
   "source": [
    "from pyscf import gto, scf\n",
    "from pyscf.lib import logger\n",
    "import numpy as np\n",
    "import pandas as pd\n",
    "import matplotlib.pyplot as plt"
   ]
  },
  {
   "cell_type": "code",
   "execution_count": 2,
   "metadata": {},
   "outputs": [],
   "source": [
    "molecules = [\n",
    "    ('H 0 0 0; H 0 0 1.4', 'sto-6g', 0),\n",
    "    ('H 0 0 0; H 0 0 1.4', '6-31g', 0),\n",
    "    ('H 0 0 0; H 0 0 1.4', 'cc-pvdz', 0),\n",
    "    ('H 0 0 0; H 0 0 1.4', 'cc-pvqz', 0),\n",
    "    ('H 0 0 0; Li 0 0 3', 'sto-6g', 0),\n",
    "    ('H 0 0 0; Li 0 0 3', '6-31g', 0),\n",
    "    ('H 0 0 0; Li 0 0 3', 'cc-pvdz', 0),\n",
    "    ('H 0 0 0; Li 0 0 3', 'cc-pvqz', 0),\n",
    "    ('He 0 0 0; H 0 0 1.4623', 'sto-6g', 1),\n",
    "    ('He 0 0 0; H 0 0 1.4623', '6-31g', 1),\n",
    "    ('He 0 0 0; H 0 0 1.4623', 'cc-pvdz', 1),\n",
    "    ('He 0 0 0; H 0 0 1.4623', 'cc-pvqz', 1),\n",
    "    ('O 0 0 0.227; H 0 1.353 -0.908; H 0 -1.353 -0.908', 'sto-6g', 0),\n",
    "    ('O 0 0 0.227; H 0 1.353 -0.908; H 0 -1.353 -0.908', '6-31g', 0),\n",
    "    ('O 0 0 0.227; H 0 1.353 -0.908; H 0 -1.353 -0.908', 'cc-pvdz', 0),\n",
    "    ('O 0 0 0.227; H 0 1.353 -0.908; H 0 -1.353 -0.908', 'cc-pvqz', 0),\n",
    "]\n",
    "\n",
    "time_elapsed_list = []\n",
    "energy_total_list = []\n",
    "\n",
    "for i, (atom, basis, charge) in enumerate(molecules):\n",
    "    mol = gto.M(atom=atom, basis=basis, charge=charge)\n",
    "    mol.unit = 'bohr'\n",
    "    mol.build()\n",
    "    mf = scf.RHF(mol)\n",
    "    mf.verbose = 0\n",
    "    log = logger.new_logger(mf, mf.verbose)\n",
    "    start_time = logger.perf_counter()\n",
    "    mf.kernel()\n",
    "    time_elapsed = logger.perf_counter() - start_time\n",
    "    energy_total = mf.e_tot\n",
    "\n",
    "    time_elapsed_list.append(time_elapsed)\n",
    "    energy_total_list.append(energy_total)"
   ]
  },
  {
   "cell_type": "code",
   "execution_count": 3,
   "metadata": {},
   "outputs": [],
   "source": [
    "e_tot = np.array(energy_total_list).reshape(4, 4).T\n",
    "time_elapsed = np.array(time_elapsed_list).reshape(4, 4).T"
   ]
  },
  {
   "cell_type": "code",
   "execution_count": 4,
   "metadata": {},
   "outputs": [
    {
     "data": {
      "text/html": [
       "<div>\n",
       "<style scoped>\n",
       "    .dataframe tbody tr th:only-of-type {\n",
       "        vertical-align: middle;\n",
       "    }\n",
       "\n",
       "    .dataframe tbody tr th {\n",
       "        vertical-align: top;\n",
       "    }\n",
       "\n",
       "    .dataframe thead th {\n",
       "        text-align: right;\n",
       "    }\n",
       "</style>\n",
       "<table border=\"1\" class=\"dataframe\">\n",
       "  <thead>\n",
       "    <tr style=\"text-align: right;\">\n",
       "      <th></th>\n",
       "      <th>H2</th>\n",
       "      <th>LiH</th>\n",
       "      <th>HeH+</th>\n",
       "      <th>H2O</th>\n",
       "    </tr>\n",
       "  </thead>\n",
       "  <tbody>\n",
       "    <tr>\n",
       "      <th>sto-6g</th>\n",
       "      <td>-1.125324</td>\n",
       "      <td>-7.952205</td>\n",
       "      <td>-2.873664</td>\n",
       "      <td>-75.674702</td>\n",
       "    </tr>\n",
       "    <tr>\n",
       "      <th>6-31g</th>\n",
       "      <td>-1.126743</td>\n",
       "      <td>-7.979178</td>\n",
       "      <td>-2.909843</td>\n",
       "      <td>-75.980547</td>\n",
       "    </tr>\n",
       "    <tr>\n",
       "      <th>cc-pvdz</th>\n",
       "      <td>-1.128709</td>\n",
       "      <td>-7.983565</td>\n",
       "      <td>-2.923616</td>\n",
       "      <td>-76.026026</td>\n",
       "    </tr>\n",
       "    <tr>\n",
       "      <th>cc-pvqz</th>\n",
       "      <td>-1.133459</td>\n",
       "      <td>-7.987150</td>\n",
       "      <td>-2.932873</td>\n",
       "      <td>-76.064344</td>\n",
       "    </tr>\n",
       "  </tbody>\n",
       "</table>\n",
       "</div>"
      ],
      "text/plain": [
       "               H2       LiH      HeH+        H2O\n",
       "sto-6g  -1.125324 -7.952205 -2.873664 -75.674702\n",
       "6-31g   -1.126743 -7.979178 -2.909843 -75.980547\n",
       "cc-pvdz -1.128709 -7.983565 -2.923616 -76.026026\n",
       "cc-pvqz -1.133459 -7.987150 -2.932873 -76.064344"
      ]
     },
     "execution_count": 4,
     "metadata": {},
     "output_type": "execute_result"
    }
   ],
   "source": [
    "df_energy = pd.DataFrame(e_tot, index=['sto-6g', '6-31g', 'cc-pvdz', 'cc-pvqz'], columns=['H2', 'LiH', 'HeH+', 'H2O'])\n",
    "df_energy"
   ]
  },
  {
   "cell_type": "code",
   "execution_count": 5,
   "metadata": {},
   "outputs": [
    {
     "data": {
      "text/html": [
       "<div>\n",
       "<style scoped>\n",
       "    .dataframe tbody tr th:only-of-type {\n",
       "        vertical-align: middle;\n",
       "    }\n",
       "\n",
       "    .dataframe tbody tr th {\n",
       "        vertical-align: top;\n",
       "    }\n",
       "\n",
       "    .dataframe thead th {\n",
       "        text-align: right;\n",
       "    }\n",
       "</style>\n",
       "<table border=\"1\" class=\"dataframe\">\n",
       "  <thead>\n",
       "    <tr style=\"text-align: right;\">\n",
       "      <th></th>\n",
       "      <th>H2</th>\n",
       "      <th>LiH</th>\n",
       "      <th>HeH+</th>\n",
       "      <th>H2O</th>\n",
       "    </tr>\n",
       "  </thead>\n",
       "  <tbody>\n",
       "    <tr>\n",
       "      <th>sto-6g</th>\n",
       "      <td>0.414690</td>\n",
       "      <td>0.748123</td>\n",
       "      <td>0.618311</td>\n",
       "      <td>0.671640</td>\n",
       "    </tr>\n",
       "    <tr>\n",
       "      <th>6-31g</th>\n",
       "      <td>0.501729</td>\n",
       "      <td>0.833678</td>\n",
       "      <td>3.039346</td>\n",
       "      <td>0.850617</td>\n",
       "    </tr>\n",
       "    <tr>\n",
       "      <th>cc-pvdz</th>\n",
       "      <td>0.691580</td>\n",
       "      <td>1.030976</td>\n",
       "      <td>0.751888</td>\n",
       "      <td>1.192572</td>\n",
       "    </tr>\n",
       "    <tr>\n",
       "      <th>cc-pvqz</th>\n",
       "      <td>1.241213</td>\n",
       "      <td>1.878023</td>\n",
       "      <td>1.317940</td>\n",
       "      <td>2.804262</td>\n",
       "    </tr>\n",
       "  </tbody>\n",
       "</table>\n",
       "</div>"
      ],
      "text/plain": [
       "               H2       LiH      HeH+       H2O\n",
       "sto-6g   0.414690  0.748123  0.618311  0.671640\n",
       "6-31g    0.501729  0.833678  3.039346  0.850617\n",
       "cc-pvdz  0.691580  1.030976  0.751888  1.192572\n",
       "cc-pvqz  1.241213  1.878023  1.317940  2.804262"
      ]
     },
     "execution_count": 5,
     "metadata": {},
     "output_type": "execute_result"
    }
   ],
   "source": [
    "df_time = pd.DataFrame(time_elapsed, index=['sto-6g', '6-31g', 'cc-pvdz', 'cc-pvqz'], columns=['H2', 'LiH', 'HeH+', 'H2O'])\n",
    "df_time"
   ]
  },
  {
   "cell_type": "code",
   "execution_count": 6,
   "metadata": {},
   "outputs": [
    {
     "data": {
      "image/png": "[encoded data removed]",
      "text/plain": [
       "<Figure size 640x480 with 1 Axes>"
      ]
     },
     "metadata": {},
     "output_type": "display_data"
    }
   ],
   "source": [
    "ax = df_energy.plot.bar(rot=0)\n",
    "for p in ax.patches:\n",
    "    ax.annotate(\"%.3f\" % p.get_height(), (p.get_x() + p.get_width() / 2., p.get_height()),\n",
    "                ha='center', va='center', fontsize=6, color='black', xytext=(0, 5),\n",
    "                textcoords='offset points')\n",
    "plt.ylabel('Total Energy (Hartree)')\n",
    "plt.title('Total Energy of Molecules')\n",
    "plt.legend(loc='upper left', bbox_to_anchor=(1.0, 1.0))\n",
    "plt.show()"
   ]
  },
  {
   "cell_type": "code",
   "execution_count": 7,
   "metadata": {},
   "outputs": [
    {
     "data": {
      "image/png": "[encoded data removed]",
      "text/plain": [
       "<Figure size 640x480 with 1 Axes>"
      ]
     },
     "metadata": {},
     "output_type": "display_data"
    }
   ],
   "source": [
    "ax = df_time.plot.bar(rot=0)\n",
    "for p in ax.patches:\n",
    "    ax.annotate(\"%.3f\" % p.get_height(), (p.get_x() + p.get_width() / 2., p.get_height()),\n",
    "                ha='center', va='center', fontsize=6, color='black', xytext=(0, 5),\n",
    "                textcoords='offset points')\n",
    "plt.ylabel('Time Elapsed (s)')\n",
    "plt.title('Time Elapsed of Molecules')\n",
    "plt.legend(loc='upper left', bbox_to_anchor=(1.0, 1.0))\n",
    "plt.show()"
   ]
  },
  {
   "cell_type": "code",
   "execution_count": 10,
   "metadata": {},
   "outputs": [
    {
     "data": {
      "text/plain": [
       "-1.1253243671759336"
      ]
     },
     "execution_count": 10,
     "metadata": {},
     "output_type": "execute_result"
    }
   ],
   "source": [
    "basis = \"\"\"\n",
    "H    S\n",
    "      0.3552322122E+02       0.9163596281E-02\n",
    "      0.6513143725E+01       0.4936149294E-01\n",
    "      0.1822142904E+01       0.1685383049E+00\n",
    "      0.6259552659E+00       0.3705627997E+00\n",
    "      0.2430767471E+00       0.4164915298E+00\n",
    "      0.1001124280E+00       0.1303340841E+00\n",
    "\"\"\"\n",
    "\n",
    "mol = gto.M(atom='H 0 0 0; H 0 0 1.4', basis=gto.basis.parse(basis), charge=0)\n",
    "mol.unit = 'bohr'\n",
    "mol.build()\n",
    "mf = scf.RHF(mol)\n",
    "mf.verbose = 0\n",
    "mf.kernel()"
   ]
  },
  {
   "cell_type": "code",
   "execution_count": 3,
   "metadata": {},
   "outputs": [],
   "source": [
    "alpha_He_huzinaga = [0.193849, 0.589851, 1.879204, 6.633653, 28.95149, 192.4388]\n",
    "coeff_He_huzinaga = [0.26768, 0.46844, 0.29801, 0.10964, 0.02465, 0.00330]"
   ]
  },
  {
   "cell_type": "code",
   "execution_count": 6,
   "metadata": {},
   "outputs": [],
   "source": [
    "basis = \"\"\"\n",
    "He    S\n",
    "      0.193849       0.26768\n",
    "      0.589851       0.46844\n",
    "      1.879204       0.29801\n",
    "      6.633653       0.10964\n",
    "      28.95149       0.02465\n",
    "      192.4388       0.00330\n",
    "\"\"\""
   ]
  },
  {
   "cell_type": "code",
   "execution_count": 17,
   "metadata": {},
   "outputs": [
    {
     "data": {
      "text/plain": [
       "-2.8611163876204313"
      ]
     },
     "execution_count": 17,
     "metadata": {},
     "output_type": "execute_result"
    }
   ],
   "source": [
    "mol = gto.M(atom='He 0 0 0', basis=gto.basis.parse(basis), charge=0)\n",
    "mol.unit = 'bohr'\n",
    "mol.build()\n",
    "mf = scf.RHF(mol)\n",
    "mf.verbose = 0\n",
    "mf.kernel()"
   ]
  },
  {
   "cell_type": "code",
   "execution_count": 16,
   "metadata": {},
   "outputs": [
    {
     "data": {
      "text/plain": [
       "array([1.])"
      ]
     },
     "execution_count": 16,
     "metadata": {},
     "output_type": "execute_result"
    }
   ],
   "source": [
    "basis_he_opt = \"\"\"\n",
    "He    S\n",
    "0.32552053     0.26768\n",
    "0.99050607     0.46844\n",
    "3.15564942     0.29801\n",
    "11.13954804    0.10964\n",
    "48.61672952    0.02465\n",
    "323.15245568   0.00330\n",
    "\"\"\""
   ]
  },
  {
   "cell_type": "code",
   "execution_count": null,
   "metadata": {},
   "outputs": [],
   "source": []
  }
 ],
 "metadata": {
  "kernelspec": {
   "display_name": "Python 3",
   "language": "python",
   "name": "python3"
  },
  "language_info": {
   "codemirror_mode": {
    "name": "ipython",
    "version": 3
   },
   "file_extension": ".py",
   "mimetype": "text/x-python",
   "name": "python",
   "nbconvert_exporter": "python",
   "pygments_lexer": "ipython3",
   "version": "3.11.2"
  }
 },
 "nbformat": 4,
 "nbformat_minor": 2
}
