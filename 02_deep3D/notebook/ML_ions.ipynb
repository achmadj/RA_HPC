{
 "cells": [
  {
   "cell_type": "code",
   "execution_count": 1,
   "metadata": {},
   "outputs": [],
   "source": [
    "import h5py\n",
    "import numpy as np\n",
    "import matplotlib.pyplot as plt\n",
    "import pandas as pd\n",
    "from sklearn.model_selection import train_test_split\n",
    "from sklearn.metrics import mean_absolute_error\n",
    "from sklearn.neighbors import KNeighborsRegressor\n",
    "from sklearn.ensemble import RandomForestRegressor\n",
    "from sklearn.svm import SVR\n",
    "from xgboost import XGBRegressor\n",
    "import time"
   ]
  },
  {
   "cell_type": "code",
   "execution_count": 2,
   "metadata": {},
   "outputs": [],
   "source": [
    "with h5py.File('./MAIN_3D_data_2023-10-31_23-25-51.h5') as F:\n",
    "  potential_train = F['potential'][:]\n",
    "  energy_train = F['energy'][:]\n",
    "  Z_train = F['Z'][:]\n",
    "  kinetic_train = F['kinetic'][:]"
   ]
  },
  {
   "cell_type": "code",
   "execution_count": 3,
   "metadata": {},
   "outputs": [],
   "source": [
    "with h5py.File('./MAIN_3D_data_2023-11-01_01-04-15.h5') as F:\n",
    "  potential_test = F['potential'][:]\n",
    "  energy_test = F['energy'][:]\n",
    "  Z_test = F['Z'][:]\n",
    "  kinetic_test = F['kinetic'][:]"
   ]
  },
  {
   "cell_type": "code",
   "execution_count": 4,
   "metadata": {},
   "outputs": [],
   "source": [
    "# X_train, X_test, y_train, y_test = train_test_split(potential[:, :, 0], energy, test_size=0.2, random_state=42)\n",
    "X_train = potential_train[:, :, 0]\n",
    "y_train = kinetic_train.ravel()\n",
    "X_test = potential_test[:, :, 0]\n",
    "y_test = kinetic_test.ravel()"
   ]
  },
  {
   "cell_type": "code",
   "execution_count": 5,
   "metadata": {},
   "outputs": [],
   "source": [
    "model_KNN = KNeighborsRegressor(n_neighbors=5)\n",
    "model_RF = RandomForestRegressor(n_estimators=100, max_depth=10, random_state=42, n_jobs=-1)\n",
    "model_SVR = SVR(kernel='rbf', C=1e3, gamma=0.1)\n",
    "model_XGB = XGBRegressor(n_estimators=100, max_depth=10, random_state=42, n_jobs=-1)"
   ]
  },
  {
   "cell_type": "code",
   "execution_count": 6,
   "metadata": {},
   "outputs": [
    {
     "name": "stdout",
     "output_type": "stream",
     "text": [
      "KNN:  0.002076562245686849 min\n",
      "\n",
      "RF:  25.87881801525752 min\n",
      "\n",
      "XGB:  11.287289758523306 min\n",
      "\n"
     ]
    }
   ],
   "source": [
    "then = time.time()\n",
    "model_KNN.fit(X_train, y_train)\n",
    "now = time.time()\n",
    "print('KNN: ', (now - then)/60, 'min')\n",
    "print()\n",
    "\n",
    "then = time.time()\n",
    "model_RF.fit(X_train, y_train)\n",
    "now = time.time()\n",
    "print('RF: ', (now - then)/60, 'min')\n",
    "print()\n",
    "\n",
    "# then = time.time()\n",
    "# model_SVR.fit(X_train, y_train)\n",
    "# now = time.time()\n",
    "# print('SVR: ', (now - then)/60, 'min')\n",
    "# print()\n",
    "\n",
    "then = time.time()\n",
    "model_XGB.fit(X_train, y_train)\n",
    "now = time.time()\n",
    "print('XGB: ', (now - then)/60, 'min')\n",
    "print()\n"
   ]
  },
  {
   "cell_type": "code",
   "execution_count": 7,
   "metadata": {},
   "outputs": [
    {
     "name": "stdout",
     "output_type": "stream",
     "text": [
      "KNN:  0.17166006565093994 min\n",
      "\n",
      "RF:  0.0022661407788594564 min\n",
      "\n",
      "XGB:  0.0026274681091308593 min\n",
      "\n"
     ]
    }
   ],
   "source": [
    "then = time.time()\n",
    "y_pred_KNN = model_KNN.predict(X_test)\n",
    "now = time.time()\n",
    "print('KNN: ', (now - then)/60, 'min')\n",
    "print()\n",
    "\n",
    "then = time.time()\n",
    "y_pred_RF = model_RF.predict(X_test)\n",
    "now = time.time()\n",
    "print('RF: ', (now - then)/60, 'min')\n",
    "print()\n",
    "\n",
    "then = time.time()\n",
    "y_pred_XGB = model_XGB.predict(X_test)\n",
    "now = time.time()\n",
    "print('XGB: ', (now - then)/60, 'min')\n",
    "print()"
   ]
  },
  {
   "cell_type": "code",
   "execution_count": 8,
   "metadata": {},
   "outputs": [
    {
     "name": "stdout",
     "output_type": "stream",
     "text": [
      "MAE KNN:  8.0\n",
      "MAE RF:  14.69\n",
      "MAE XGB:  9.5\n",
      "MAE KNN:  0.007996487486624468\n",
      "MAE RF:  0.014693888139332\n",
      "MAE XGB:  0.009497533157685116\n"
     ]
    }
   ],
   "source": [
    "# error times 1000 and rounded to 3 decimal places\n",
    "print('MAE KNN: ', 1000*mean_absolute_error(y_test, y_pred_KNN).round(5))\n",
    "print('MAE RF: ', 1000*mean_absolute_error(y_test, y_pred_RF).round(5))\n",
    "print('MAE XGB: ', 1000*mean_absolute_error(y_test, y_pred_XGB).round(5))\n",
    "\n",
    "print('MAE KNN: ', mean_absolute_error(y_test, y_pred_KNN))\n",
    "print('MAE RF: ', mean_absolute_error(y_test, y_pred_RF))\n",
    "print('MAE XGB: ', mean_absolute_error(y_test, y_pred_XGB))"
   ]
  },
  {
   "cell_type": "code",
   "execution_count": 9,
   "metadata": {},
   "outputs": [],
   "source": [
    "Z_test_hydrogen = np.asarray(Z_test.flatten()==1).nonzero()[0]\n",
    "Z_test_helium = np.asarray(Z_test.flatten()==2).nonzero()[0]\n",
    "Z_test_lithium = np.asarray(Z_test.flatten()==3).nonzero()[0]\n",
    "Z_test_beryllium = np.asarray(Z_test.flatten()==4).nonzero()[0]"
   ]
  },
  {
   "cell_type": "code",
   "execution_count": 10,
   "metadata": {},
   "outputs": [],
   "source": [
    "y_pred_KNN_hydrogen = y_pred_KNN[Z_test_hydrogen]\n",
    "y_pred_KNN_helium = y_pred_KNN[Z_test_helium]\n",
    "y_pred_KNN_lithium = y_pred_KNN[Z_test_lithium]\n",
    "y_pred_KNN_beryllium = y_pred_KNN[Z_test_beryllium]\n",
    "\n",
    "y_pred_RF_hydrogen = y_pred_RF[Z_test_hydrogen]\n",
    "y_pred_RF_helium = y_pred_RF[Z_test_helium]\n",
    "y_pred_RF_lithium = y_pred_RF[Z_test_lithium]\n",
    "y_pred_RF_beryllium = y_pred_RF[Z_test_beryllium]\n",
    "\n",
    "y_pred_XGB_hydrogen = y_pred_XGB[Z_test_hydrogen]\n",
    "y_pred_XGB_helium = y_pred_XGB[Z_test_helium]\n",
    "y_pred_XGB_lithium = y_pred_XGB[Z_test_lithium]\n",
    "y_pred_XGB_beryllium = y_pred_XGB[Z_test_beryllium]\n",
    "\n",
    "error_KNN_hydrogen = 1000*mean_absolute_error(y_test[Z_test_hydrogen], y_pred_KNN_hydrogen).round(5)\n",
    "error_KNN_helium = 1000*mean_absolute_error(y_test[Z_test_helium], y_pred_KNN_helium).round(5)\n",
    "error_KNN_lithium = 1000*mean_absolute_error(y_test[Z_test_lithium], y_pred_KNN_lithium).round(5)\n",
    "error_KNN_beryllium = 1000*mean_absolute_error(y_test[Z_test_beryllium], y_pred_KNN_beryllium).round(5)\n",
    "\n",
    "error_RF_hydrogen = 1000*mean_absolute_error(y_test[Z_test_hydrogen], y_pred_RF_hydrogen).round(5)\n",
    "error_RF_helium = 1000*mean_absolute_error(y_test[Z_test_helium], y_pred_RF_helium).round(5)\n",
    "error_RF_lithium = 1000*mean_absolute_error(y_test[Z_test_lithium], y_pred_RF_lithium).round(5)\n",
    "error_RF_beryllium = 1000*mean_absolute_error(y_test[Z_test_beryllium], y_pred_RF_beryllium).round(5)\n",
    "\n",
    "error_XGB_hydrogen = 1000*mean_absolute_error(y_test[Z_test_hydrogen], y_pred_XGB_hydrogen).round(5)\n",
    "error_XGB_helium = 1000*mean_absolute_error(y_test[Z_test_helium], y_pred_XGB_helium).round(5)\n",
    "error_XGB_lithium = 1000*mean_absolute_error(y_test[Z_test_lithium], y_pred_XGB_lithium).round(5)\n",
    "error_XGB_beryllium = 1000*mean_absolute_error(y_test[Z_test_beryllium], y_pred_XGB_beryllium).round(5)\n"
   ]
  },
  {
   "cell_type": "code",
   "execution_count": 11,
   "metadata": {},
   "outputs": [
    {
     "name": "stdout",
     "output_type": "stream",
     "text": [
      "MAE KNN hydrogen:  1.05\n",
      "MAE KNN helium:  4.1000000000000005\n",
      "MAE KNN lithium:  9.889999999999999\n",
      "MAE KNN beryllium:  16.95\n",
      "MAE RF hydrogen:  1.8699999999999999\n",
      "MAE RF helium:  8.319999999999999\n",
      "MAE RF lithium:  16.47\n",
      "MAE RF beryllium:  32.11\n",
      "MAE XGB hydrogen:  1.1900000000000002\n",
      "MAE XGB helium:  3.93\n",
      "MAE XGB lithium:  16.75\n",
      "MAE XGB beryllium:  16.119999999999997\n"
     ]
    }
   ],
   "source": [
    "print('MAE KNN hydrogen: ', error_KNN_hydrogen)\n",
    "print('MAE KNN helium: ', error_KNN_helium)\n",
    "print('MAE KNN lithium: ', error_KNN_lithium)\n",
    "print('MAE KNN beryllium: ', error_KNN_beryllium)\n",
    "\n",
    "print('MAE RF hydrogen: ', error_RF_hydrogen)\n",
    "print('MAE RF helium: ', error_RF_helium)\n",
    "print('MAE RF lithium: ', error_RF_lithium)\n",
    "print('MAE RF beryllium: ', error_RF_beryllium)\n",
    "\n",
    "print('MAE XGB hydrogen: ', error_XGB_hydrogen)\n",
    "print('MAE XGB helium: ', error_XGB_helium)\n",
    "print('MAE XGB lithium: ', error_XGB_lithium)\n",
    "print('MAE XGB beryllium: ', error_XGB_beryllium)\n"
   ]
  },
  {
   "cell_type": "code",
   "execution_count": 12,
   "metadata": {},
   "outputs": [],
   "source": [
    "# # save all model\n",
    "# import pickle\n",
    "# pickle.dump(model_KNN, open('model_KNN.sav', 'wb'))\n",
    "# pickle.dump(model_RF, open('model_RF.sav', 'wb'))\n",
    "# pickle.dump(model_XGB, open('model_XGB.sav', 'wb'))"
   ]
  },
  {
   "cell_type": "code",
   "execution_count": null,
   "metadata": {},
   "outputs": [],
   "source": []
  }
 ],
 "metadata": {
  "kernelspec": {
   "display_name": "Python 3",
   "language": "python",
   "name": "python3"
  },
  "language_info": {
   "codemirror_mode": {
    "name": "ipython",
    "version": 3
   },
   "file_extension": ".py",
   "mimetype": "text/x-python",
   "name": "python",
   "nbconvert_exporter": "python",
   "pygments_lexer": "ipython3",
   "version": "3.11.2"
  }
 },
 "nbformat": 4,
 "nbformat_minor": 2
}
